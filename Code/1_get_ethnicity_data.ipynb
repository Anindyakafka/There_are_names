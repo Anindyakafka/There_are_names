{
 "cells": [
  {
   "cell_type": "code",
   "execution_count": 1,
   "metadata": {},
   "outputs": [],
   "source": [
    "import pandas as pd\n",
    "import os"
   ]
  },
  {
   "cell_type": "code",
   "execution_count": null,
   "metadata": {},
   "outputs": [],
   "source": [
    "filename = '../data/genni-ethnea-authority2009.tsv'\n",
    "\n",
    "df = pd.read_csv(filename, delimiter = '\\t', on_bad_lines = 'warn')"
   ]
  },
  {
   "cell_type": "code",
   "execution_count": null,
   "metadata": {},
   "outputs": [],
   "source": [
    "df"
   ]
  },
  {
   "cell_type": "code",
   "execution_count": null,
   "metadata": {},
   "outputs": [],
   "source": [
    "df['firstname'] = df['firstname'].str.capitalize()\n",
    "\n",
    "#remove names with spaces or hyphens or len1 or less\n",
    "df = df[df['firstname'].str.len() > 1]\n",
    "df = df[df['firstname'].str.len() < 14]\n",
    "df = df[~df['firstname'].str.contains(r'[\\\\s-]')]\n",
    "\n",
    "#Remove names without gender info\n",
    "df = df[df['Genni'] != \"-\"]\n",
    "        \n",
    "#Create new df with unique names\n",
    "unique_names_df = df.drop_duplicates(subset = 'firstname', keep = 'first', ignore_index=True)\n",
    "unique_names_df"
   ]
  },
  {
   "cell_type": "code",
   "execution_count": null,
   "metadata": {},
   "outputs": [],
   "source": [
    "import requests \n",
    "from bs4 import BeautifulSoup\n",
    "import time\n",
    "\n",
    "def scrape_ethnicity_table(first_name, last_name):\n",
    "    ur= f\"http://abel.lis.illinois.edu/cgi-bin/ethnea/search.py?Fname={first_name}&Lname={last_name}\"\n",
    "    response = requests.get(ur)\n",
    "    soup = BeautifulSoup(response.content, 'html.parser')\n",
    "    table = soup.find('table')\n",
    "    \n",
    "    rows = table.find_all('tr')\n",
    "    \n",
    "    #Etract the table date \n",
    "    data =  [[cell.text for cell in row.find_all('td')] for row in rows[1:]]'\n",
    "    \n",
    "    #Find the ethnicity with the highest probability F\n",
    "    max_probF_ethnicity = None\n",
    "    max_probF_value = 0.0\n",
    "    for row in data:\n",
    "        ethnicity = row[0]\n",
    "        probF = float(row[4])\n",
    "        if probF > max_probF_value:\n",
    "            max_probF_ethnicity = ethnicity\n",
    "            max_probF_value = probF\n",
    "        \n",
    "    #Update the DataFrame with the highest probF ethnicity and probF value\n",
    "    unique_names_df.loc[(unique_names_df['firstname'] == first name) & (unique_names_df['lastname'] == last_name), 'Highest_probF_ethnicity'] = max_probF_ethnicity\n",
    "    unique_names_df.loc[(unique_names_df['firstname'] == first name) & (unique_names_df['lastname'] == last_name), 'Highest_probF_value'] = max_probF_value \n",
    "    "
   ]
  }
 ],
 "metadata": {
  "kernelspec": {
   "display_name": "Python 3",
   "language": "python",
   "name": "python3"
  },
  "language_info": {
   "codemirror_mode": {
    "name": "ipython",
    "version": 3
   },
   "file_extension": ".py",
   "mimetype": "text/x-python",
   "name": "python",
   "nbconvert_exporter": "python",
   "pygments_lexer": "ipython3",
   "version": "3.13.2"
  }
 },
 "nbformat": 4,
 "nbformat_minor": 2
}
