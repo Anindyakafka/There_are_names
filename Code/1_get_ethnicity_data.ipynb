{
 "cells": [
  {
   "cell_type": "code",
   "execution_count": null,
   "metadata": {},
   "outputs": [],
   "source": [
    "import pandas as pd\n",
    "import os"
   ]
  },
  {
   "cell_type": "code",
   "execution_count": null,
   "metadata": {},
   "outputs": [],
   "source": [
    "filename = '../datagenni-ethnea-authority2009.tsv'\n",
    "\n",
    "df = pd.read_csv(filename, delimiter = '\\t', on_bad_lines = 'warn')"
   ]
  },
  {
   "cell_type": "code",
   "execution_count": null,
   "metadata": {},
   "outputs": [],
   "source": [
    "df"
   ]
  },
  {
   "cell_type": "code",
   "execution_count": null,
   "metadata": {},
   "outputs": [],
   "source": [
    "df['firstname'] = df['firstname'].str.capitalize()\n",
    "\n",
    "#remove names with spaces or hyphens or len1 or less\n",
    "df = df[df['firstname'].str.len() > 1]\n",
    "df = df[df['firstname'].str.len() < 14]\n",
    "df = df[~df['firstname'].str.contains(r'[\\\\s-]')]\n",
    "\n",
    "#Remove names without gender info\n",
    "df = df[df['Genni'] != \"-\"]\n",
    "        \n",
    "#Create new df with unique names\n",
    "unique_names_df = df.drop_duplicates(subset = 'firstname', keep = 'first', ignore_index=True)\n",
    "unique_names_df"
   ]
  }
 ],
 "metadata": {
  "language_info": {
   "name": "python"
  }
 },
 "nbformat": 4,
 "nbformat_minor": 2
}
