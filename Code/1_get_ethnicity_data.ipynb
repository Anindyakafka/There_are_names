{
 "cells": [
  {
   "cell_type": "code",
   "execution_count": 1,
   "metadata": {},
   "outputs": [],
   "source": [
    "import pandas as pd\n",
    "import os"
   ]
  },
  {
   "cell_type": "code",
   "execution_count": null,
   "metadata": {},
   "outputs": [],
   "source": [
    "filename = '../data/genni-ethnea-authority2009.tsv'\n",
    "\n",
    "df = pd.read_csv(filename, delimiter = '\\t', on_bad_lines = 'warn')"
   ]
  },
  {
   "cell_type": "code",
   "execution_count": null,
   "metadata": {},
   "outputs": [],
   "source": [
    "df"
   ]
  },
  {
   "cell_type": "code",
   "execution_count": null,
   "metadata": {},
   "outputs": [],
   "source": [
    "df['firstname'] = df['firstname'].str.capitalize()\n",
    "\n",
    "#remove names with spaces or hyphens or len1 or less\n",
    "df = df[df['firstname'].str.len() > 1]\n",
    "df = df[df['firstname'].str.len() < 14]\n",
    "df = df[~df['firstname'].str.contains(r'[\\\\s-]')]\n",
    "\n",
    "#Remove names without gender info\n",
    "df = df[df['Genni'] != \"-\"]\n",
    "        \n",
    "#Create new df with unique names\n",
    "unique_names_df = df.drop_duplicates(subset = 'firstname', keep = 'first', ignore_index=True)\n",
    "unique_names_df"
   ]
  }
 ],
 "metadata": {
  "kernelspec": {
   "display_name": "Python 3",
   "language": "python",
   "name": "python3"
  },
  "language_info": {
   "codemirror_mode": {
    "name": "ipython",
    "version": 3
   },
   "file_extension": ".py",
   "mimetype": "text/x-python",
   "name": "python",
   "nbconvert_exporter": "python",
   "pygments_lexer": "ipython3",
   "version": "3.13.2"
  }
 },
 "nbformat": 4,
 "nbformat_minor": 2
}
